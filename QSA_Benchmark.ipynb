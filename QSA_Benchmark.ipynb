{
 "cells": [
  {
   "cell_type": "code",
   "execution_count": 1,
   "id": "1e3abc28",
   "metadata": {},
   "outputs": [],
   "source": [
    "import numpy as np\n",
    "from mindquantum.core.gates import X, Y, Z, S, H, RX, RY, RZ, Measure, UnivMathGate, DepolarizingChannel\n",
    "from mindquantum.core.circuit import Circuit\n",
    "from mindquantum.simulator import Simulator\n",
    "import scipy.linalg as la\n",
    "import matplotlib.pyplot as plt\n",
    "from tqdm import tqdm\n",
    "import concurrent.futures\n",
    "import os\n",
    "from scipy.optimize import curve_fit   "
   ]
  },
  {
   "cell_type": "code",
   "execution_count": 51,
   "id": "24fde49e",
   "metadata": {},
   "outputs": [],
   "source": [
    "def SpinChain(n,J,h):\n",
    "    X = np.array([[0, 1], [1, 0]],dtype=complex)\n",
    "    Y = np.array([[0, -1j], [1j, 0]],dtype=complex)\n",
    "    Z = np.array([[1, 0], [0, -1]],dtype=complex)\n",
    "    def hopping(P,i):\n",
    "        assert i < n, \"i should be less than n\"\n",
    "        if i == 0 or i == n-1:\n",
    "            matrix = P\n",
    "        else:\n",
    "            matrix = np.eye(2,dtype=complex)\n",
    "        for j in range(1,n):\n",
    "            if j == i or j == i+1:\n",
    "                matrix = np.kron(P,matrix)\n",
    "            else:\n",
    "                matrix = np.kron(np.eye(2,dtype=complex),matrix)\n",
    "        return matrix\n",
    "    def potential(P,i):\n",
    "        assert i < n, \"i should be less than n\"\n",
    "        if i == 0:\n",
    "            matrix = P\n",
    "        else:\n",
    "            matrix = np.eye(2,dtype=complex)\n",
    "        for j in range(1,n):\n",
    "            if j == i:\n",
    "                matrix = np.kron(P,matrix)\n",
    "            else:\n",
    "                matrix = np.kron(np.eye(2,dtype=complex),matrix)\n",
    "        return matrix\n",
    "    \n",
    "    # hopping term\n",
    "    HoppingX = np.zeros((2**n,2**n),dtype=complex)\n",
    "    HoppingY = np.zeros((2**n,2**n),dtype=complex)\n",
    "    HoppingZ = np.zeros((2**n,2**n),dtype=complex)\n",
    "    if n == 2:\n",
    "        for i in range(n-1):\n",
    "            HoppingX += hopping(X,i)*J[0]\n",
    "            HoppingY += hopping(Y,i)*J[1]\n",
    "            HoppingZ += hopping(Z,i)*J[2]\n",
    "    else:\n",
    "        for i in range(n):\n",
    "            HoppingX += hopping(X,i)*J[0]\n",
    "            HoppingY += hopping(Y,i)*J[1]\n",
    "            HoppingZ += hopping(Z,i)*J[2]\n",
    "    # potential term\n",
    "    PotentialX = np.zeros((2**n,2**n),dtype=complex)\n",
    "    PotentialY = np.zeros((2**n,2**n),dtype=complex)\n",
    "    PotentialZ = np.zeros((2**n,2**n),dtype=complex)\n",
    "    for i in range(n):\n",
    "        PotentialX += potential(X,i)*h[0]\n",
    "        PotentialY += potential(Y,i)*h[1]\n",
    "        PotentialZ += potential(Z,i)*h[2]\n",
    "    return HoppingX+HoppingY+HoppingZ+PotentialX+PotentialY+PotentialZ\n",
    "\n",
    "def TimeEvolution(H,t):\n",
    "    eigenv,U = np.linalg.eig(H)\n",
    "    diag = np.diag(np.exp(-1.j*t*eigenv))\n",
    "    return U@diag@np.linalg.inv(U)\n",
    "\n",
    "def gaussian(x, amplitude, mean, stddev):\n",
    "    return amplitude * np.exp(-((x - mean) ** 2) / (2 * stddev ** 2))\n",
    "\n",
    "def Diag_averg(matrix_set):\n",
    "    L = matrix_set.shape[0]\n",
    "    K = matrix_set.shape[1]\n",
    "    N = L+K-1\n",
    "    Y = matrix_set\n",
    "    def sum(seq):\n",
    "        a = seq[0]\n",
    "        for i in range(1,len(seq)):\n",
    "            a += seq[i]\n",
    "        return a     \n",
    "    recovered = []\n",
    "    for i in range(N):\n",
    "        if i<=L-1:\n",
    "            seq = [Y[m,i-m]/(i+1) for m in range(i+1)]\n",
    "            recovered.append(sum(seq))\n",
    "        elif i>L-1 and i<K-1:\n",
    "            seq = [Y[m,i-m]/L for m in range(L)]\n",
    "            recovered.append(sum(seq))\n",
    "        else:\n",
    "            seq = [Y[m,i-m]/(N-i) for m in range(i-K+1,L)]\n",
    "            recovered.append(sum(seq))\n",
    "    return np.array(recovered)\n",
    "\n",
    "def TimeSeqRecover(time_sequence_error,order):\n",
    "    N = len(time_sequence_error)\n",
    "    L = N//2\n",
    "    K = N-L+1\n",
    "    X = []\n",
    "    for i in range(K):\n",
    "        X.append(time_sequence_error[i:i+L])\n",
    "    X = np.array(X).T\n",
    "    U,Lambda,V = np.linalg.svd(X)\n",
    "    r = order\n",
    "    Y = U[:,:r]@np.diag(Lambda[:r])@V[:r,:]\n",
    "    # print(Lambda[:2*r])\n",
    "    time_sequence_recover = Diag_averg(Y)\n",
    "    return time_sequence_recover\n",
    "\n",
    "def QSA(Hamiltonian,ground_state,error=0.0,size=1000,with_SSA=True):\n",
    "    n = int(np.log2(Hamiltonian.shape[0]))\n",
    "    target_bit = [i+1 for i in range(n)]\n",
    "    sim = Simulator('mqvector',n+1)\n",
    "\n",
    "    sigma = 3.0\n",
    "    points = 30\n",
    "    width = 2.0*sigma\n",
    "\n",
    "    time_stamp = np.linspace(-width,width,points+1)\n",
    "    print('time_stamp:', time_stamp)\n",
    "    coeffs = [(width*2/points)*np.exp(-time_stamp[j]**2/(2*sigma**2))/(sigma*np.sqrt(2*np.pi)) for j in range(points+1)]\n",
    "\n",
    "    U0 = TimeEvolution(Hamiltonian,-width)\n",
    "    dU = TimeEvolution(Hamiltonian,2*width/points)\n",
    "    Uset = []\n",
    "    for i in tqdm(range(points+1)):\n",
    "        randmat = np.random.randn(2**n,2**n)+1.j*np.random.randn(2**n,2**n)\n",
    "        randmat = randmat*error\n",
    "        Uset.append(U0)\n",
    "        U0 = (dU+randmat)@U0\n",
    "    Uset = np.array(Uset)\n",
    "\n",
    "    # time_serial\n",
    "    time_serial = []\n",
    "    for i in tqdm(range(points+1),desc='I',colour='yellow'): # t\n",
    "        realcirc = Circuit()\n",
    "        realcirc += H.on(0)\n",
    "        evol_gate = UnivMathGate('Ut',Uset[i])\n",
    "        realcirc += evol_gate.on(target_bit,0)\n",
    "        realcirc += H.on(0)\n",
    "        realcirc += Measure('q0').on(0)\n",
    "        \n",
    "        sim.reset()\n",
    "        sim.set_qs(np.kron(ground_state,[1.0,0.0]))\n",
    "        result = sim.sampling(circuit=realcirc,shots=size)\n",
    "        samples = result.data\n",
    "        try:\n",
    "            zero = samples['0']\n",
    "        except:\n",
    "            zero = 0\n",
    "        try:\n",
    "            one = samples['1']\n",
    "        except:\n",
    "            one = 0\n",
    "        real_part = (zero-one)/size\n",
    "\n",
    "        imagcirc = Circuit()\n",
    "        imagcirc += H.on(0)\n",
    "        evol_gate = UnivMathGate('Ut',Uset[i])\n",
    "        imagcirc += evol_gate.on(target_bit,0)\n",
    "        imagcirc += S.on(0)\n",
    "        imagcirc += Z.on(0)\n",
    "        imagcirc += H.on(0)\n",
    "        imagcirc += Measure('q0').on(0)\n",
    "\n",
    "        sim.reset()\n",
    "        sim.set_qs(np.kron(ground_state,[1.0,0.0]))\n",
    "        result = sim.sampling(circuit=imagcirc,shots=size)\n",
    "        samples = result.data\n",
    "        try:\n",
    "            zero = samples['0']\n",
    "        except:\n",
    "            zero = 0\n",
    "        try:\n",
    "            one = samples['1']\n",
    "        except:\n",
    "            one = 0\n",
    "        imag_part = (zero-one)/size\n",
    "\n",
    "        time_serial.append(real_part+1.j*imag_part)\n",
    "\n",
    "        del realcirc\n",
    "        del imagcirc  \n",
    "    time_serial = np.array(time_serial) \n",
    "\n",
    "    # post - processing\n",
    "    if with_SSA:\n",
    "        time_serial_recover = TimeSeqRecover(time_serial,2)\n",
    "    else:\n",
    "        time_serial_recover = time_serial\n",
    "    energy_stamp = np.linspace(-23,-2,4319)\n",
    "\n",
    "    amplitude = []\n",
    "    for energy in energy_stamp:\n",
    "        coeffs = []\n",
    "        for i in range(points+1):\n",
    "            coeffs.append((width*2/points)*np.exp(-time_stamp[i]**2/(2*sigma**2)+1.j*energy*time_stamp[i])/(sigma*np.sqrt(2*np.pi)))\n",
    "        amplitude.append(np.array(coeffs)@time_serial_recover)\n",
    "    try:\n",
    "        plt.plot(energy_stamp[:600],np.real(amplitude)[:600])\n",
    "        popt, pcov = curve_fit(gaussian, energy_stamp[:600], np.real(amplitude[:600]), p0=[0.1,-21.5,1])\n",
    "        estimated_energy = popt[1]\n",
    "    except:\n",
    "        pass\n",
    "\n",
    "    return estimated_energy"
   ]
  },
  {
   "cell_type": "code",
   "execution_count": 52,
   "id": "051d139b",
   "metadata": {},
   "outputs": [],
   "source": [
    "n = 8\n",
    "size = 1000\n",
    "J = [-1.0,-1.0,-1.5]\n",
    "h = [1.5,0.0,0.5]\n",
    "Hamiltonian = SpinChain(n,J,h)\n",
    "ground_state = 0.9*np.linalg.eig(Hamiltonian)[1][:,0]+np.sqrt(1-0.9**2)*np.linalg.eig(Hamiltonian)[1][:,1]\n",
    "ground_energy = np.linalg.eigvalsh(Hamiltonian)[0]"
   ]
  },
  {
   "cell_type": "code",
   "execution_count": 53,
   "id": "1adf7825",
   "metadata": {},
   "outputs": [
    {
     "name": "stderr",
     "output_type": "stream",
     "text": [
      "samples:   0%|\u001b[34m          \u001b[0m| 0/10 [00:00<?, ?it/s]"
     ]
    },
    {
     "name": "stdout",
     "output_type": "stream",
     "text": [
      "time_stamp: [-6.  -5.6 -5.2 -4.8 -4.4 -4.  -3.6 -3.2 -2.8 -2.4 -2.  -1.6 -1.2 -0.8\n",
      " -0.4  0.   0.4  0.8  1.2  1.6  2.   2.4  2.8  3.2  3.6  4.   4.4  4.8\n",
      "  5.2  5.6  6. ]\n"
     ]
    },
    {
     "name": "stderr",
     "output_type": "stream",
     "text": [
      "\n",
      "\u001b[A\n",
      "100%|██████████| 31/31 [00:00<00:00, 246.03it/s]\n",
      "\n",
      "\u001b[A\n",
      "\u001b[A\n",
      "\u001b[A\n",
      "I: 100%|\u001b[33m██████████\u001b[0m| 31/31 [00:00<00:00, 77.40it/s]\n"
     ]
    },
    {
     "name": "stdout",
     "output_type": "stream",
     "text": [
      "time_stamp: [-6.  -5.6 -5.2 -4.8 -4.4 -4.  -3.6 -3.2 -2.8 -2.4 -2.  -1.6 -1.2 -0.8\n",
      " -0.4  0.   0.4  0.8  1.2  1.6  2.   2.4  2.8  3.2  3.6  4.   4.4  4.8\n",
      "  5.2  5.6  6. ]\n"
     ]
    },
    {
     "name": "stderr",
     "output_type": "stream",
     "text": [
      "\n",
      "\u001b[A\n",
      "100%|██████████| 31/31 [00:00<00:00, 238.46it/s]\n",
      "\n",
      "\u001b[A\n",
      "\u001b[A\n",
      "\u001b[A\n",
      "I: 100%|\u001b[33m██████████\u001b[0m| 31/31 [00:00<00:00, 74.28it/s]\n"
     ]
    },
    {
     "name": "stdout",
     "output_type": "stream",
     "text": [
      "time_stamp: [-6.  -5.6 -5.2 -4.8 -4.4 -4.  -3.6 -3.2 -2.8 -2.4 -2.  -1.6 -1.2 -0.8\n",
      " -0.4  0.   0.4  0.8  1.2  1.6  2.   2.4  2.8  3.2  3.6  4.   4.4  4.8\n",
      "  5.2  5.6  6. ]\n"
     ]
    },
    {
     "name": "stderr",
     "output_type": "stream",
     "text": [
      "\n",
      "\u001b[A\n",
      "100%|██████████| 31/31 [00:00<00:00, 244.10it/s]\n",
      "\n",
      "\u001b[A\n",
      "\u001b[A\n",
      "\u001b[A\n",
      "I: 100%|\u001b[33m██████████\u001b[0m| 31/31 [00:00<00:00, 71.75it/s]\n"
     ]
    },
    {
     "name": "stdout",
     "output_type": "stream",
     "text": [
      "time_stamp: [-6.  -5.6 -5.2 -4.8 -4.4 -4.  -3.6 -3.2 -2.8 -2.4 -2.  -1.6 -1.2 -0.8\n",
      " -0.4  0.   0.4  0.8  1.2  1.6  2.   2.4  2.8  3.2  3.6  4.   4.4  4.8\n",
      "  5.2  5.6  6. ]\n"
     ]
    },
    {
     "name": "stderr",
     "output_type": "stream",
     "text": [
      "\n",
      "\u001b[A\n",
      "100%|██████████| 31/31 [00:00<00:00, 233.08it/s]\n",
      "\n",
      "\u001b[A\n",
      "\u001b[A\n",
      "\u001b[A\n",
      "I: 100%|\u001b[33m██████████\u001b[0m| 31/31 [00:00<00:00, 77.50it/s]\n"
     ]
    },
    {
     "name": "stdout",
     "output_type": "stream",
     "text": [
      "time_stamp: [-6.  -5.6 -5.2 -4.8 -4.4 -4.  -3.6 -3.2 -2.8 -2.4 -2.  -1.6 -1.2 -0.8\n",
      " -0.4  0.   0.4  0.8  1.2  1.6  2.   2.4  2.8  3.2  3.6  4.   4.4  4.8\n",
      "  5.2  5.6  6. ]\n"
     ]
    },
    {
     "name": "stderr",
     "output_type": "stream",
     "text": [
      "\n",
      "\u001b[A\n",
      "100%|██████████| 31/31 [00:00<00:00, 205.31it/s]\n",
      "\n",
      "\u001b[A\n",
      "\u001b[A\n",
      "\u001b[A\n",
      "I: 100%|\u001b[33m██████████\u001b[0m| 31/31 [00:00<00:00, 79.08it/s]\n",
      "error: 100%|\u001b[31m██████████\u001b[0m| 5/5 [00:08<00:00,  1.76s/it]\n",
      "samples:  10%|\u001b[34m█         \u001b[0m| 1/10 [00:08<01:19,  8.81s/it]"
     ]
    },
    {
     "name": "stdout",
     "output_type": "stream",
     "text": [
      "time_stamp: [-6.  -5.6 -5.2 -4.8 -4.4 -4.  -3.6 -3.2 -2.8 -2.4 -2.  -1.6 -1.2 -0.8\n",
      " -0.4  0.   0.4  0.8  1.2  1.6  2.   2.4  2.8  3.2  3.6  4.   4.4  4.8\n",
      "  5.2  5.6  6. ]\n"
     ]
    },
    {
     "name": "stderr",
     "output_type": "stream",
     "text": [
      "\n",
      "\u001b[A\n",
      "100%|██████████| 31/31 [00:00<00:00, 204.08it/s]\n",
      "\n",
      "\u001b[A\n",
      "\u001b[A\n",
      "\u001b[A\n",
      "I: 100%|\u001b[33m██████████\u001b[0m| 31/31 [00:00<00:00, 77.83it/s]\n"
     ]
    },
    {
     "name": "stdout",
     "output_type": "stream",
     "text": [
      "time_stamp: [-6.  -5.6 -5.2 -4.8 -4.4 -4.  -3.6 -3.2 -2.8 -2.4 -2.  -1.6 -1.2 -0.8\n",
      " -0.4  0.   0.4  0.8  1.2  1.6  2.   2.4  2.8  3.2  3.6  4.   4.4  4.8\n",
      "  5.2  5.6  6. ]\n"
     ]
    },
    {
     "name": "stderr",
     "output_type": "stream",
     "text": [
      "\n",
      "\u001b[A\n",
      "100%|██████████| 31/31 [00:00<00:00, 186.75it/s]\n",
      "\n",
      "\u001b[A\n",
      "\u001b[A\n",
      "\u001b[A\n",
      "I: 100%|\u001b[33m██████████\u001b[0m| 31/31 [00:00<00:00, 75.02it/s]\n"
     ]
    },
    {
     "name": "stdout",
     "output_type": "stream",
     "text": [
      "time_stamp: [-6.  -5.6 -5.2 -4.8 -4.4 -4.  -3.6 -3.2 -2.8 -2.4 -2.  -1.6 -1.2 -0.8\n",
      " -0.4  0.   0.4  0.8  1.2  1.6  2.   2.4  2.8  3.2  3.6  4.   4.4  4.8\n",
      "  5.2  5.6  6. ]\n"
     ]
    },
    {
     "name": "stderr",
     "output_type": "stream",
     "text": [
      "\n",
      "\u001b[A\n",
      "100%|██████████| 31/31 [00:00<00:00, 200.38it/s]\n",
      "\n",
      "\u001b[A\n",
      "\u001b[A\n",
      "\u001b[A\n",
      "I: 100%|\u001b[33m██████████\u001b[0m| 31/31 [00:00<00:00, 77.77it/s]\n"
     ]
    },
    {
     "name": "stdout",
     "output_type": "stream",
     "text": [
      "time_stamp: [-6.  -5.6 -5.2 -4.8 -4.4 -4.  -3.6 -3.2 -2.8 -2.4 -2.  -1.6 -1.2 -0.8\n",
      " -0.4  0.   0.4  0.8  1.2  1.6  2.   2.4  2.8  3.2  3.6  4.   4.4  4.8\n",
      "  5.2  5.6  6. ]\n"
     ]
    },
    {
     "name": "stderr",
     "output_type": "stream",
     "text": [
      "\n",
      "\u001b[A\n",
      "100%|██████████| 31/31 [00:00<00:00, 186.64it/s]\n",
      "\n",
      "\u001b[A\n",
      "\u001b[A\n",
      "\u001b[A\n",
      "I: 100%|\u001b[33m██████████\u001b[0m| 31/31 [00:00<00:00, 75.08it/s]\n"
     ]
    },
    {
     "name": "stdout",
     "output_type": "stream",
     "text": [
      "time_stamp: [-6.  -5.6 -5.2 -4.8 -4.4 -4.  -3.6 -3.2 -2.8 -2.4 -2.  -1.6 -1.2 -0.8\n",
      " -0.4  0.   0.4  0.8  1.2  1.6  2.   2.4  2.8  3.2  3.6  4.   4.4  4.8\n",
      "  5.2  5.6  6. ]\n"
     ]
    },
    {
     "name": "stderr",
     "output_type": "stream",
     "text": [
      "\n",
      "\u001b[A\n",
      "100%|██████████| 31/31 [00:00<00:00, 193.75it/s]\n",
      "\n",
      "\u001b[A\n",
      "\u001b[A\n",
      "\u001b[A\n",
      "I: 100%|\u001b[33m██████████\u001b[0m| 31/31 [00:00<00:00, 63.84it/s]\n",
      "error: 100%|\u001b[31m██████████\u001b[0m| 5/5 [00:08<00:00,  1.76s/it]\n",
      "samples:  20%|\u001b[34m██        \u001b[0m| 2/10 [00:17<01:10,  8.81s/it]"
     ]
    },
    {
     "name": "stdout",
     "output_type": "stream",
     "text": [
      "time_stamp: [-6.  -5.6 -5.2 -4.8 -4.4 -4.  -3.6 -3.2 -2.8 -2.4 -2.  -1.6 -1.2 -0.8\n",
      " -0.4  0.   0.4  0.8  1.2  1.6  2.   2.4  2.8  3.2  3.6  4.   4.4  4.8\n",
      "  5.2  5.6  6. ]\n"
     ]
    },
    {
     "name": "stderr",
     "output_type": "stream",
     "text": [
      "\n",
      "\u001b[A\n",
      "100%|██████████| 31/31 [00:00<00:00, 162.30it/s]\n",
      "\n",
      "\u001b[A\n",
      "\u001b[A\n",
      "\u001b[A\n",
      "I: 100%|\u001b[33m██████████\u001b[0m| 31/31 [00:00<00:00, 70.58it/s]\n"
     ]
    },
    {
     "name": "stdout",
     "output_type": "stream",
     "text": [
      "time_stamp: [-6.  -5.6 -5.2 -4.8 -4.4 -4.  -3.6 -3.2 -2.8 -2.4 -2.  -1.6 -1.2 -0.8\n",
      " -0.4  0.   0.4  0.8  1.2  1.6  2.   2.4  2.8  3.2  3.6  4.   4.4  4.8\n",
      "  5.2  5.6  6. ]\n"
     ]
    },
    {
     "name": "stderr",
     "output_type": "stream",
     "text": [
      "\n",
      "\u001b[A\n",
      "100%|██████████| 31/31 [00:00<00:00, 175.14it/s]\n",
      "\n",
      "\u001b[A\n",
      "\u001b[A\n",
      "\u001b[A\n",
      "I: 100%|\u001b[33m██████████\u001b[0m| 31/31 [00:00<00:00, 74.09it/s]\n"
     ]
    },
    {
     "name": "stdout",
     "output_type": "stream",
     "text": [
      "time_stamp: [-6.  -5.6 -5.2 -4.8 -4.4 -4.  -3.6 -3.2 -2.8 -2.4 -2.  -1.6 -1.2 -0.8\n",
      " -0.4  0.   0.4  0.8  1.2  1.6  2.   2.4  2.8  3.2  3.6  4.   4.4  4.8\n",
      "  5.2  5.6  6. ]\n"
     ]
    },
    {
     "name": "stderr",
     "output_type": "stream",
     "text": [
      "\n",
      "\u001b[A\n",
      "100%|██████████| 31/31 [00:00<00:00, 161.45it/s]\n",
      "\n",
      "\u001b[A\n",
      "\u001b[A\n",
      "\u001b[A\n",
      "I: 100%|\u001b[33m██████████\u001b[0m| 31/31 [00:00<00:00, 78.31it/s]\n"
     ]
    },
    {
     "name": "stdout",
     "output_type": "stream",
     "text": [
      "time_stamp: [-6.  -5.6 -5.2 -4.8 -4.4 -4.  -3.6 -3.2 -2.8 -2.4 -2.  -1.6 -1.2 -0.8\n",
      " -0.4  0.   0.4  0.8  1.2  1.6  2.   2.4  2.8  3.2  3.6  4.   4.4  4.8\n",
      "  5.2  5.6  6. ]\n"
     ]
    },
    {
     "name": "stderr",
     "output_type": "stream",
     "text": [
      "\n",
      "\u001b[A\n",
      "100%|██████████| 31/31 [00:00<00:00, 200.01it/s]\n",
      "\n",
      "\u001b[A\n",
      "\u001b[A\n",
      "\u001b[A\n",
      "I: 100%|\u001b[33m██████████\u001b[0m| 31/31 [00:00<00:00, 76.93it/s]\n"
     ]
    },
    {
     "name": "stdout",
     "output_type": "stream",
     "text": [
      "time_stamp: [-6.  -5.6 -5.2 -4.8 -4.4 -4.  -3.6 -3.2 -2.8 -2.4 -2.  -1.6 -1.2 -0.8\n",
      " -0.4  0.   0.4  0.8  1.2  1.6  2.   2.4  2.8  3.2  3.6  4.   4.4  4.8\n",
      "  5.2  5.6  6. ]\n"
     ]
    },
    {
     "name": "stderr",
     "output_type": "stream",
     "text": [
      "\n",
      "\u001b[A\n",
      "100%|██████████| 31/31 [00:00<00:00, 155.78it/s]\n",
      "\n",
      "\u001b[A\n",
      "\u001b[A\n",
      "\u001b[A\n",
      "I: 100%|\u001b[33m██████████\u001b[0m| 31/31 [00:00<00:00, 67.82it/s]\n",
      "error: 100%|\u001b[31m██████████\u001b[0m| 5/5 [00:10<00:00,  2.14s/it]\n",
      "samples:  30%|\u001b[34m███       \u001b[0m| 3/10 [00:28<01:07,  9.68s/it]"
     ]
    },
    {
     "name": "stdout",
     "output_type": "stream",
     "text": [
      "time_stamp: [-6.  -5.6 -5.2 -4.8 -4.4 -4.  -3.6 -3.2 -2.8 -2.4 -2.  -1.6 -1.2 -0.8\n",
      " -0.4  0.   0.4  0.8  1.2  1.6  2.   2.4  2.8  3.2  3.6  4.   4.4  4.8\n",
      "  5.2  5.6  6. ]\n"
     ]
    },
    {
     "name": "stderr",
     "output_type": "stream",
     "text": [
      "\n",
      "\u001b[A\n",
      "100%|██████████| 31/31 [00:00<00:00, 167.57it/s]\n",
      "\n",
      "\u001b[A\n",
      "\u001b[A\n",
      "\u001b[A\n",
      "\u001b[A\n",
      "I: 100%|\u001b[33m██████████\u001b[0m| 31/31 [00:00<00:00, 68.26it/s]\n"
     ]
    },
    {
     "name": "stdout",
     "output_type": "stream",
     "text": [
      "time_stamp: [-6.  -5.6 -5.2 -4.8 -4.4 -4.  -3.6 -3.2 -2.8 -2.4 -2.  -1.6 -1.2 -0.8\n",
      " -0.4  0.   0.4  0.8  1.2  1.6  2.   2.4  2.8  3.2  3.6  4.   4.4  4.8\n",
      "  5.2  5.6  6. ]\n"
     ]
    },
    {
     "name": "stderr",
     "output_type": "stream",
     "text": [
      "\n",
      "\u001b[A\n",
      "100%|██████████| 31/31 [00:00<00:00, 204.63it/s]\n",
      "\n",
      "\u001b[A\n",
      "\u001b[A\n",
      "\u001b[A\n",
      "I: 100%|\u001b[33m██████████\u001b[0m| 31/31 [00:00<00:00, 73.53it/s]\n"
     ]
    },
    {
     "name": "stdout",
     "output_type": "stream",
     "text": [
      "time_stamp: [-6.  -5.6 -5.2 -4.8 -4.4 -4.  -3.6 -3.2 -2.8 -2.4 -2.  -1.6 -1.2 -0.8\n",
      " -0.4  0.   0.4  0.8  1.2  1.6  2.   2.4  2.8  3.2  3.6  4.   4.4  4.8\n",
      "  5.2  5.6  6. ]\n"
     ]
    },
    {
     "name": "stderr",
     "output_type": "stream",
     "text": [
      "\n",
      "\u001b[A\n",
      "100%|██████████| 31/31 [00:00<00:00, 197.46it/s]\n",
      "\n",
      "\u001b[A\n",
      "\u001b[A\n",
      "\u001b[A\n",
      "I: 100%|\u001b[33m██████████\u001b[0m| 31/31 [00:00<00:00, 76.23it/s]\n"
     ]
    },
    {
     "name": "stdout",
     "output_type": "stream",
     "text": [
      "time_stamp: [-6.  -5.6 -5.2 -4.8 -4.4 -4.  -3.6 -3.2 -2.8 -2.4 -2.  -1.6 -1.2 -0.8\n",
      " -0.4  0.   0.4  0.8  1.2  1.6  2.   2.4  2.8  3.2  3.6  4.   4.4  4.8\n",
      "  5.2  5.6  6. ]\n"
     ]
    },
    {
     "name": "stderr",
     "output_type": "stream",
     "text": [
      "\n",
      "\u001b[A\n",
      "100%|██████████| 31/31 [00:00<00:00, 201.09it/s]\n",
      "\n",
      "\u001b[A\n",
      "\u001b[A\n",
      "\u001b[A\n",
      "I: 100%|\u001b[33m██████████\u001b[0m| 31/31 [00:00<00:00, 76.16it/s]\n"
     ]
    },
    {
     "name": "stdout",
     "output_type": "stream",
     "text": [
      "time_stamp: [-6.  -5.6 -5.2 -4.8 -4.4 -4.  -3.6 -3.2 -2.8 -2.4 -2.  -1.6 -1.2 -0.8\n",
      " -0.4  0.   0.4  0.8  1.2  1.6  2.   2.4  2.8  3.2  3.6  4.   4.4  4.8\n",
      "  5.2  5.6  6. ]\n"
     ]
    },
    {
     "name": "stderr",
     "output_type": "stream",
     "text": [
      "\n",
      "\u001b[A\n",
      "100%|██████████| 31/31 [00:00<00:00, 155.01it/s]\n",
      "\n",
      "\u001b[A\n",
      "\u001b[A\n",
      "\u001b[A\n",
      "\u001b[A\n",
      "I: 100%|\u001b[33m██████████\u001b[0m| 31/31 [00:00<00:00, 60.05it/s]\n",
      "error: 100%|\u001b[31m██████████\u001b[0m| 5/5 [00:11<00:00,  2.21s/it]\n",
      "samples:  40%|\u001b[34m████      \u001b[0m| 4/10 [00:39<01:01, 10.22s/it]"
     ]
    },
    {
     "name": "stdout",
     "output_type": "stream",
     "text": [
      "time_stamp: [-6.  -5.6 -5.2 -4.8 -4.4 -4.  -3.6 -3.2 -2.8 -2.4 -2.  -1.6 -1.2 -0.8\n",
      " -0.4  0.   0.4  0.8  1.2  1.6  2.   2.4  2.8  3.2  3.6  4.   4.4  4.8\n",
      "  5.2  5.6  6. ]\n"
     ]
    },
    {
     "name": "stderr",
     "output_type": "stream",
     "text": [
      "\n",
      "\u001b[A\n",
      "100%|██████████| 31/31 [00:00<00:00, 202.50it/s]\n",
      "\n",
      "\u001b[A\n",
      "\u001b[A\n",
      "\u001b[A\n",
      "I: 100%|\u001b[33m██████████\u001b[0m| 31/31 [00:00<00:00, 72.92it/s]\n"
     ]
    },
    {
     "name": "stdout",
     "output_type": "stream",
     "text": [
      "time_stamp: [-6.  -5.6 -5.2 -4.8 -4.4 -4.  -3.6 -3.2 -2.8 -2.4 -2.  -1.6 -1.2 -0.8\n",
      " -0.4  0.   0.4  0.8  1.2  1.6  2.   2.4  2.8  3.2  3.6  4.   4.4  4.8\n",
      "  5.2  5.6  6. ]\n"
     ]
    },
    {
     "name": "stderr",
     "output_type": "stream",
     "text": [
      "\n",
      "\u001b[A\n",
      "100%|██████████| 31/31 [00:00<00:00, 240.31it/s]\n",
      "\n",
      "\u001b[A\n",
      "\u001b[A\n",
      "\u001b[A\n",
      "I: 100%|\u001b[33m██████████\u001b[0m| 31/31 [00:00<00:00, 76.70it/s]\n"
     ]
    },
    {
     "name": "stdout",
     "output_type": "stream",
     "text": [
      "time_stamp: [-6.  -5.6 -5.2 -4.8 -4.4 -4.  -3.6 -3.2 -2.8 -2.4 -2.  -1.6 -1.2 -0.8\n",
      " -0.4  0.   0.4  0.8  1.2  1.6  2.   2.4  2.8  3.2  3.6  4.   4.4  4.8\n",
      "  5.2  5.6  6. ]\n"
     ]
    },
    {
     "name": "stderr",
     "output_type": "stream",
     "text": [
      "\n",
      "\u001b[A\n",
      "100%|██████████| 31/31 [00:00<00:00, 215.22it/s]\n",
      "\n",
      "\u001b[A\n",
      "\u001b[A\n",
      "\u001b[A\n",
      "I: 100%|\u001b[33m██████████\u001b[0m| 31/31 [00:00<00:00, 82.15it/s]\n"
     ]
    },
    {
     "name": "stdout",
     "output_type": "stream",
     "text": [
      "time_stamp: [-6.  -5.6 -5.2 -4.8 -4.4 -4.  -3.6 -3.2 -2.8 -2.4 -2.  -1.6 -1.2 -0.8\n",
      " -0.4  0.   0.4  0.8  1.2  1.6  2.   2.4  2.8  3.2  3.6  4.   4.4  4.8\n",
      "  5.2  5.6  6. ]\n"
     ]
    },
    {
     "name": "stderr",
     "output_type": "stream",
     "text": [
      "\n",
      "\u001b[A\n",
      "100%|██████████| 31/31 [00:00<00:00, 246.04it/s]\n",
      "\n",
      "\u001b[A\n",
      "\u001b[A\n",
      "\u001b[A\n",
      "I: 100%|\u001b[33m██████████\u001b[0m| 31/31 [00:00<00:00, 80.72it/s]\n"
     ]
    },
    {
     "name": "stdout",
     "output_type": "stream",
     "text": [
      "time_stamp: [-6.  -5.6 -5.2 -4.8 -4.4 -4.  -3.6 -3.2 -2.8 -2.4 -2.  -1.6 -1.2 -0.8\n",
      " -0.4  0.   0.4  0.8  1.2  1.6  2.   2.4  2.8  3.2  3.6  4.   4.4  4.8\n",
      "  5.2  5.6  6. ]\n"
     ]
    },
    {
     "name": "stderr",
     "output_type": "stream",
     "text": [
      "\n",
      "\u001b[A\n",
      "100%|██████████| 31/31 [00:00<00:00, 198.70it/s]\n",
      "\n",
      "\u001b[A\n",
      "\u001b[A\n",
      "\u001b[A\n",
      "I: 100%|\u001b[33m██████████\u001b[0m| 31/31 [00:00<00:00, 83.17it/s]\n",
      "error: 100%|\u001b[31m██████████\u001b[0m| 5/5 [00:09<00:00,  1.83s/it]\n",
      "samples:  50%|\u001b[34m█████     \u001b[0m| 5/10 [00:48<00:49,  9.83s/it]"
     ]
    },
    {
     "name": "stdout",
     "output_type": "stream",
     "text": [
      "time_stamp: [-6.  -5.6 -5.2 -4.8 -4.4 -4.  -3.6 -3.2 -2.8 -2.4 -2.  -1.6 -1.2 -0.8\n",
      " -0.4  0.   0.4  0.8  1.2  1.6  2.   2.4  2.8  3.2  3.6  4.   4.4  4.8\n",
      "  5.2  5.6  6. ]\n"
     ]
    },
    {
     "name": "stderr",
     "output_type": "stream",
     "text": [
      "\n",
      "\u001b[A\n",
      "100%|██████████| 31/31 [00:00<00:00, 205.30it/s]\n",
      "\n",
      "\u001b[A\n",
      "\u001b[A\n",
      "\u001b[A\n",
      "I: 100%|\u001b[33m██████████\u001b[0m| 31/31 [00:00<00:00, 81.67it/s]\n"
     ]
    },
    {
     "name": "stdout",
     "output_type": "stream",
     "text": [
      "time_stamp: [-6.  -5.6 -5.2 -4.8 -4.4 -4.  -3.6 -3.2 -2.8 -2.4 -2.  -1.6 -1.2 -0.8\n",
      " -0.4  0.   0.4  0.8  1.2  1.6  2.   2.4  2.8  3.2  3.6  4.   4.4  4.8\n",
      "  5.2  5.6  6. ]\n"
     ]
    },
    {
     "name": "stderr",
     "output_type": "stream",
     "text": [
      "\n",
      "\u001b[A\n",
      "100%|██████████| 31/31 [00:00<00:00, 191.38it/s]\n",
      "\n",
      "\u001b[A\n",
      "\u001b[A\n",
      "\u001b[A\n",
      "\u001b[A\n",
      "I: 100%|\u001b[33m██████████\u001b[0m| 31/31 [00:00<00:00, 64.82it/s]\n"
     ]
    },
    {
     "name": "stdout",
     "output_type": "stream",
     "text": [
      "time_stamp: [-6.  -5.6 -5.2 -4.8 -4.4 -4.  -3.6 -3.2 -2.8 -2.4 -2.  -1.6 -1.2 -0.8\n",
      " -0.4  0.   0.4  0.8  1.2  1.6  2.   2.4  2.8  3.2  3.6  4.   4.4  4.8\n",
      "  5.2  5.6  6. ]\n"
     ]
    },
    {
     "name": "stderr",
     "output_type": "stream",
     "text": [
      "\n",
      "\u001b[A\n",
      "100%|██████████| 31/31 [00:00<00:00, 206.68it/s]\n",
      "\n",
      "\u001b[A\n",
      "\u001b[A\n",
      "\u001b[A\n",
      "I: 100%|\u001b[33m██████████\u001b[0m| 31/31 [00:00<00:00, 83.23it/s]\n"
     ]
    },
    {
     "name": "stdout",
     "output_type": "stream",
     "text": [
      "time_stamp: [-6.  -5.6 -5.2 -4.8 -4.4 -4.  -3.6 -3.2 -2.8 -2.4 -2.  -1.6 -1.2 -0.8\n",
      " -0.4  0.   0.4  0.8  1.2  1.6  2.   2.4  2.8  3.2  3.6  4.   4.4  4.8\n",
      "  5.2  5.6  6. ]\n"
     ]
    },
    {
     "name": "stderr",
     "output_type": "stream",
     "text": [
      "\n",
      "\u001b[A\n",
      "100%|██████████| 31/31 [00:00<00:00, 213.70it/s]\n",
      "\n",
      "\u001b[A\n",
      "\u001b[A\n",
      "\u001b[A\n",
      "I: 100%|\u001b[33m██████████\u001b[0m| 31/31 [00:00<00:00, 82.21it/s]\n"
     ]
    },
    {
     "name": "stdout",
     "output_type": "stream",
     "text": [
      "time_stamp: [-6.  -5.6 -5.2 -4.8 -4.4 -4.  -3.6 -3.2 -2.8 -2.4 -2.  -1.6 -1.2 -0.8\n",
      " -0.4  0.   0.4  0.8  1.2  1.6  2.   2.4  2.8  3.2  3.6  4.   4.4  4.8\n",
      "  5.2  5.6  6. ]\n"
     ]
    },
    {
     "name": "stderr",
     "output_type": "stream",
     "text": [
      "\n",
      "\u001b[A\n",
      "100%|██████████| 31/31 [00:00<00:00, 216.79it/s]\n",
      "\n",
      "\u001b[A\n",
      "\u001b[A\n",
      "\u001b[A\n",
      "I: 100%|\u001b[33m██████████\u001b[0m| 31/31 [00:00<00:00, 80.73it/s]\n",
      "error: 100%|\u001b[31m██████████\u001b[0m| 5/5 [00:08<00:00,  1.77s/it]\n",
      "samples:  60%|\u001b[34m██████    \u001b[0m| 6/10 [00:57<00:37,  9.49s/it]"
     ]
    },
    {
     "name": "stdout",
     "output_type": "stream",
     "text": [
      "time_stamp: [-6.  -5.6 -5.2 -4.8 -4.4 -4.  -3.6 -3.2 -2.8 -2.4 -2.  -1.6 -1.2 -0.8\n",
      " -0.4  0.   0.4  0.8  1.2  1.6  2.   2.4  2.8  3.2  3.6  4.   4.4  4.8\n",
      "  5.2  5.6  6. ]\n"
     ]
    },
    {
     "name": "stderr",
     "output_type": "stream",
     "text": [
      "\n",
      "\u001b[A\n",
      "100%|██████████| 31/31 [00:00<00:00, 209.41it/s]\n",
      "\n",
      "\u001b[A\n",
      "\u001b[A\n",
      "\u001b[A\n",
      "I: 100%|\u001b[33m██████████\u001b[0m| 31/31 [00:00<00:00, 81.37it/s]\n"
     ]
    },
    {
     "name": "stdout",
     "output_type": "stream",
     "text": [
      "time_stamp: [-6.  -5.6 -5.2 -4.8 -4.4 -4.  -3.6 -3.2 -2.8 -2.4 -2.  -1.6 -1.2 -0.8\n",
      " -0.4  0.   0.4  0.8  1.2  1.6  2.   2.4  2.8  3.2  3.6  4.   4.4  4.8\n",
      "  5.2  5.6  6. ]\n"
     ]
    },
    {
     "name": "stderr",
     "output_type": "stream",
     "text": [
      "\n",
      "\u001b[A\n",
      "100%|██████████| 31/31 [00:00<00:00, 196.80it/s]\n",
      "\n",
      "\u001b[A\n",
      "\u001b[A\n",
      "\u001b[A\n",
      "I: 100%|\u001b[33m██████████\u001b[0m| 31/31 [00:00<00:00, 75.13it/s]\n"
     ]
    },
    {
     "name": "stdout",
     "output_type": "stream",
     "text": [
      "time_stamp: [-6.  -5.6 -5.2 -4.8 -4.4 -4.  -3.6 -3.2 -2.8 -2.4 -2.  -1.6 -1.2 -0.8\n",
      " -0.4  0.   0.4  0.8  1.2  1.6  2.   2.4  2.8  3.2  3.6  4.   4.4  4.8\n",
      "  5.2  5.6  6. ]\n"
     ]
    },
    {
     "name": "stderr",
     "output_type": "stream",
     "text": [
      "\n",
      "\u001b[A\n",
      "100%|██████████| 31/31 [00:00<00:00, 219.87it/s]\n",
      "\n",
      "\u001b[A\n",
      "\u001b[A\n",
      "\u001b[A\n",
      "I: 100%|\u001b[33m██████████\u001b[0m| 31/31 [00:00<00:00, 83.13it/s]\n"
     ]
    },
    {
     "name": "stdout",
     "output_type": "stream",
     "text": [
      "time_stamp: [-6.  -5.6 -5.2 -4.8 -4.4 -4.  -3.6 -3.2 -2.8 -2.4 -2.  -1.6 -1.2 -0.8\n",
      " -0.4  0.   0.4  0.8  1.2  1.6  2.   2.4  2.8  3.2  3.6  4.   4.4  4.8\n",
      "  5.2  5.6  6. ]\n"
     ]
    },
    {
     "name": "stderr",
     "output_type": "stream",
     "text": [
      "\n",
      "\u001b[A\n",
      "100%|██████████| 31/31 [00:00<00:00, 194.17it/s]\n",
      "\n",
      "\u001b[A\n",
      "\u001b[A\n",
      "\u001b[A\n",
      "I: 100%|\u001b[33m██████████\u001b[0m| 31/31 [00:00<00:00, 79.26it/s]\n"
     ]
    },
    {
     "name": "stdout",
     "output_type": "stream",
     "text": [
      "time_stamp: [-6.  -5.6 -5.2 -4.8 -4.4 -4.  -3.6 -3.2 -2.8 -2.4 -2.  -1.6 -1.2 -0.8\n",
      " -0.4  0.   0.4  0.8  1.2  1.6  2.   2.4  2.8  3.2  3.6  4.   4.4  4.8\n",
      "  5.2  5.6  6. ]\n"
     ]
    },
    {
     "name": "stderr",
     "output_type": "stream",
     "text": [
      "\n",
      "\u001b[A\n",
      "100%|██████████| 31/31 [00:00<00:00, 212.33it/s]\n",
      "\n",
      "\u001b[A\n",
      "\u001b[A\n",
      "\u001b[A\n",
      "I: 100%|\u001b[33m██████████\u001b[0m| 31/31 [00:00<00:00, 82.24it/s]\n",
      "error: 100%|\u001b[31m██████████\u001b[0m| 5/5 [00:08<00:00,  1.63s/it]\n",
      "samples:  70%|\u001b[34m███████   \u001b[0m| 7/10 [01:05<00:27,  9.05s/it]"
     ]
    },
    {
     "name": "stdout",
     "output_type": "stream",
     "text": [
      "time_stamp: [-6.  -5.6 -5.2 -4.8 -4.4 -4.  -3.6 -3.2 -2.8 -2.4 -2.  -1.6 -1.2 -0.8\n",
      " -0.4  0.   0.4  0.8  1.2  1.6  2.   2.4  2.8  3.2  3.6  4.   4.4  4.8\n",
      "  5.2  5.6  6. ]\n"
     ]
    },
    {
     "name": "stderr",
     "output_type": "stream",
     "text": [
      "\n",
      "\u001b[A\n",
      "100%|██████████| 31/31 [00:00<00:00, 223.03it/s]\n",
      "\n",
      "\u001b[A\n",
      "\u001b[A\n",
      "\u001b[A\n",
      "I: 100%|\u001b[33m██████████\u001b[0m| 31/31 [00:00<00:00, 68.98it/s]\n"
     ]
    },
    {
     "name": "stdout",
     "output_type": "stream",
     "text": [
      "time_stamp: [-6.  -5.6 -5.2 -4.8 -4.4 -4.  -3.6 -3.2 -2.8 -2.4 -2.  -1.6 -1.2 -0.8\n",
      " -0.4  0.   0.4  0.8  1.2  1.6  2.   2.4  2.8  3.2  3.6  4.   4.4  4.8\n",
      "  5.2  5.6  6. ]\n"
     ]
    },
    {
     "name": "stderr",
     "output_type": "stream",
     "text": [
      "\n",
      "\u001b[A\n",
      "100%|██████████| 31/31 [00:00<00:00, 156.99it/s]\n",
      "\n",
      "\u001b[A\n",
      "\u001b[A\n",
      "\u001b[A\n",
      "\u001b[A\n",
      "I: 100%|\u001b[33m██████████\u001b[0m| 31/31 [00:00<00:00, 68.02it/s]\n"
     ]
    },
    {
     "name": "stdout",
     "output_type": "stream",
     "text": [
      "time_stamp: [-6.  -5.6 -5.2 -4.8 -4.4 -4.  -3.6 -3.2 -2.8 -2.4 -2.  -1.6 -1.2 -0.8\n",
      " -0.4  0.   0.4  0.8  1.2  1.6  2.   2.4  2.8  3.2  3.6  4.   4.4  4.8\n",
      "  5.2  5.6  6. ]\n"
     ]
    },
    {
     "name": "stderr",
     "output_type": "stream",
     "text": [
      "\n",
      "\u001b[A\n",
      "100%|██████████| 31/31 [00:00<00:00, 206.60it/s]\n",
      "\n",
      "\u001b[A\n",
      "\u001b[A\n",
      "\u001b[A\n",
      "I: 100%|\u001b[33m██████████\u001b[0m| 31/31 [00:00<00:00, 83.35it/s]\n"
     ]
    },
    {
     "name": "stdout",
     "output_type": "stream",
     "text": [
      "time_stamp: [-6.  -5.6 -5.2 -4.8 -4.4 -4.  -3.6 -3.2 -2.8 -2.4 -2.  -1.6 -1.2 -0.8\n",
      " -0.4  0.   0.4  0.8  1.2  1.6  2.   2.4  2.8  3.2  3.6  4.   4.4  4.8\n",
      "  5.2  5.6  6. ]\n"
     ]
    },
    {
     "name": "stderr",
     "output_type": "stream",
     "text": [
      "\n",
      "\u001b[A\n",
      "100%|██████████| 31/31 [00:00<00:00, 180.24it/s]\n",
      "\n",
      "\u001b[A\n",
      "\u001b[A\n",
      "\u001b[A\n",
      "I: 100%|\u001b[33m██████████\u001b[0m| 31/31 [00:00<00:00, 77.79it/s]\n"
     ]
    },
    {
     "name": "stdout",
     "output_type": "stream",
     "text": [
      "time_stamp: [-6.  -5.6 -5.2 -4.8 -4.4 -4.  -3.6 -3.2 -2.8 -2.4 -2.  -1.6 -1.2 -0.8\n",
      " -0.4  0.   0.4  0.8  1.2  1.6  2.   2.4  2.8  3.2  3.6  4.   4.4  4.8\n",
      "  5.2  5.6  6. ]\n"
     ]
    },
    {
     "name": "stderr",
     "output_type": "stream",
     "text": [
      "\n",
      "\u001b[A\n",
      "100%|██████████| 31/31 [00:00<00:00, 197.53it/s]\n",
      "\n",
      "\u001b[A\n",
      "\u001b[A\n",
      "\u001b[A\n",
      "I: 100%|\u001b[33m██████████\u001b[0m| 31/31 [00:00<00:00, 76.91it/s]\n",
      "error: 100%|\u001b[31m██████████\u001b[0m| 5/5 [00:09<00:00,  1.91s/it]\n",
      "samples:  80%|\u001b[34m████████  \u001b[0m| 8/10 [01:15<00:18,  9.21s/it]"
     ]
    },
    {
     "name": "stdout",
     "output_type": "stream",
     "text": [
      "time_stamp: [-6.  -5.6 -5.2 -4.8 -4.4 -4.  -3.6 -3.2 -2.8 -2.4 -2.  -1.6 -1.2 -0.8\n",
      " -0.4  0.   0.4  0.8  1.2  1.6  2.   2.4  2.8  3.2  3.6  4.   4.4  4.8\n",
      "  5.2  5.6  6. ]\n"
     ]
    },
    {
     "name": "stderr",
     "output_type": "stream",
     "text": [
      "\n",
      "\u001b[A\n",
      "100%|██████████| 31/31 [00:00<00:00, 183.34it/s]\n",
      "\n",
      "\u001b[A\n",
      "\u001b[A\n",
      "\u001b[A\n",
      "I: 100%|\u001b[33m██████████\u001b[0m| 31/31 [00:00<00:00, 78.17it/s]\n"
     ]
    },
    {
     "name": "stdout",
     "output_type": "stream",
     "text": [
      "time_stamp: [-6.  -5.6 -5.2 -4.8 -4.4 -4.  -3.6 -3.2 -2.8 -2.4 -2.  -1.6 -1.2 -0.8\n",
      " -0.4  0.   0.4  0.8  1.2  1.6  2.   2.4  2.8  3.2  3.6  4.   4.4  4.8\n",
      "  5.2  5.6  6. ]\n"
     ]
    },
    {
     "name": "stderr",
     "output_type": "stream",
     "text": [
      "\n",
      "\u001b[A\n",
      "100%|██████████| 31/31 [00:00<00:00, 218.21it/s]\n",
      "\n",
      "\u001b[A\n",
      "\u001b[A\n",
      "\u001b[A\n",
      "I: 100%|\u001b[33m██████████\u001b[0m| 31/31 [00:00<00:00, 77.50it/s]\n"
     ]
    },
    {
     "name": "stdout",
     "output_type": "stream",
     "text": [
      "time_stamp: [-6.  -5.6 -5.2 -4.8 -4.4 -4.  -3.6 -3.2 -2.8 -2.4 -2.  -1.6 -1.2 -0.8\n",
      " -0.4  0.   0.4  0.8  1.2  1.6  2.   2.4  2.8  3.2  3.6  4.   4.4  4.8\n",
      "  5.2  5.6  6. ]\n"
     ]
    },
    {
     "name": "stderr",
     "output_type": "stream",
     "text": [
      "\n",
      "\u001b[A\n",
      "100%|██████████| 31/31 [00:00<00:00, 196.17it/s]\n",
      "\n",
      "\u001b[A\n",
      "\u001b[A\n",
      "\u001b[A\n",
      "I: 100%|\u001b[33m██████████\u001b[0m| 31/31 [00:00<00:00, 72.14it/s]\n"
     ]
    },
    {
     "name": "stdout",
     "output_type": "stream",
     "text": [
      "time_stamp: [-6.  -5.6 -5.2 -4.8 -4.4 -4.  -3.6 -3.2 -2.8 -2.4 -2.  -1.6 -1.2 -0.8\n",
      " -0.4  0.   0.4  0.8  1.2  1.6  2.   2.4  2.8  3.2  3.6  4.   4.4  4.8\n",
      "  5.2  5.6  6. ]\n"
     ]
    },
    {
     "name": "stderr",
     "output_type": "stream",
     "text": [
      "\n",
      "\u001b[A\n",
      "100%|██████████| 31/31 [00:00<00:00, 161.41it/s]\n",
      "\n",
      "\u001b[A\n",
      "\u001b[A\n",
      "\u001b[A\n",
      "\u001b[A\n",
      "I: 100%|\u001b[33m██████████\u001b[0m| 31/31 [00:00<00:00, 68.52it/s]\n"
     ]
    },
    {
     "name": "stdout",
     "output_type": "stream",
     "text": [
      "time_stamp: [-6.  -5.6 -5.2 -4.8 -4.4 -4.  -3.6 -3.2 -2.8 -2.4 -2.  -1.6 -1.2 -0.8\n",
      " -0.4  0.   0.4  0.8  1.2  1.6  2.   2.4  2.8  3.2  3.6  4.   4.4  4.8\n",
      "  5.2  5.6  6. ]\n"
     ]
    },
    {
     "name": "stderr",
     "output_type": "stream",
     "text": [
      "\n",
      "\u001b[A\n",
      "100%|██████████| 31/31 [00:00<00:00, 164.10it/s]\n",
      "\n",
      "\u001b[A\n",
      "\u001b[A\n",
      "\u001b[A\n",
      "\u001b[A\n",
      "I: 100%|\u001b[33m██████████\u001b[0m| 31/31 [00:00<00:00, 67.75it/s]\n",
      "error: 100%|\u001b[31m██████████\u001b[0m| 5/5 [00:09<00:00,  1.93s/it]\n",
      "samples:  90%|\u001b[34m█████████ \u001b[0m| 9/10 [01:24<00:09,  9.35s/it]"
     ]
    },
    {
     "name": "stdout",
     "output_type": "stream",
     "text": [
      "time_stamp: [-6.  -5.6 -5.2 -4.8 -4.4 -4.  -3.6 -3.2 -2.8 -2.4 -2.  -1.6 -1.2 -0.8\n",
      " -0.4  0.   0.4  0.8  1.2  1.6  2.   2.4  2.8  3.2  3.6  4.   4.4  4.8\n",
      "  5.2  5.6  6. ]\n"
     ]
    },
    {
     "name": "stderr",
     "output_type": "stream",
     "text": [
      "\n",
      "\u001b[A\n",
      "100%|██████████| 31/31 [00:00<00:00, 237.49it/s]\n",
      "\n",
      "\u001b[A\n",
      "\u001b[A\n",
      "\u001b[A\n",
      "I: 100%|\u001b[33m██████████\u001b[0m| 31/31 [00:00<00:00, 80.72it/s]\n"
     ]
    },
    {
     "name": "stdout",
     "output_type": "stream",
     "text": [
      "time_stamp: [-6.  -5.6 -5.2 -4.8 -4.4 -4.  -3.6 -3.2 -2.8 -2.4 -2.  -1.6 -1.2 -0.8\n",
      " -0.4  0.   0.4  0.8  1.2  1.6  2.   2.4  2.8  3.2  3.6  4.   4.4  4.8\n",
      "  5.2  5.6  6. ]\n"
     ]
    },
    {
     "name": "stderr",
     "output_type": "stream",
     "text": [
      "\n",
      "\u001b[A\n",
      "100%|██████████| 31/31 [00:00<00:00, 254.12it/s]\n",
      "\n",
      "\u001b[A\n",
      "\u001b[A\n",
      "\u001b[A\n",
      "I: 100%|\u001b[33m██████████\u001b[0m| 31/31 [00:00<00:00, 79.09it/s]\n"
     ]
    },
    {
     "name": "stdout",
     "output_type": "stream",
     "text": [
      "time_stamp: [-6.  -5.6 -5.2 -4.8 -4.4 -4.  -3.6 -3.2 -2.8 -2.4 -2.  -1.6 -1.2 -0.8\n",
      " -0.4  0.   0.4  0.8  1.2  1.6  2.   2.4  2.8  3.2  3.6  4.   4.4  4.8\n",
      "  5.2  5.6  6. ]\n"
     ]
    },
    {
     "name": "stderr",
     "output_type": "stream",
     "text": [
      "\n",
      "\u001b[A\n",
      "100%|██████████| 31/31 [00:00<00:00, 196.21it/s]\n",
      "\n",
      "\u001b[A\n",
      "\u001b[A\n",
      "\u001b[A\n",
      "I: 100%|\u001b[33m██████████\u001b[0m| 31/31 [00:00<00:00, 78.56it/s]\n"
     ]
    },
    {
     "name": "stdout",
     "output_type": "stream",
     "text": [
      "time_stamp: [-6.  -5.6 -5.2 -4.8 -4.4 -4.  -3.6 -3.2 -2.8 -2.4 -2.  -1.6 -1.2 -0.8\n",
      " -0.4  0.   0.4  0.8  1.2  1.6  2.   2.4  2.8  3.2  3.6  4.   4.4  4.8\n",
      "  5.2  5.6  6. ]\n"
     ]
    },
    {
     "name": "stderr",
     "output_type": "stream",
     "text": [
      "\n",
      "\u001b[A\n",
      "100%|██████████| 31/31 [00:00<00:00, 198.58it/s]\n",
      "\n",
      "\u001b[A\n",
      "\u001b[A\n",
      "\u001b[A\n",
      "I: 100%|\u001b[33m██████████\u001b[0m| 31/31 [00:00<00:00, 72.09it/s]\n"
     ]
    },
    {
     "name": "stdout",
     "output_type": "stream",
     "text": [
      "time_stamp: [-6.  -5.6 -5.2 -4.8 -4.4 -4.  -3.6 -3.2 -2.8 -2.4 -2.  -1.6 -1.2 -0.8\n",
      " -0.4  0.   0.4  0.8  1.2  1.6  2.   2.4  2.8  3.2  3.6  4.   4.4  4.8\n",
      "  5.2  5.6  6. ]\n"
     ]
    },
    {
     "name": "stderr",
     "output_type": "stream",
     "text": [
      "\n",
      "\u001b[A\n",
      "100%|██████████| 31/31 [00:00<00:00, 184.93it/s]\n",
      "\n",
      "\u001b[A\n",
      "\u001b[A\n",
      "\u001b[A\n",
      "I: 100%|\u001b[33m██████████\u001b[0m| 31/31 [00:00<00:00, 80.31it/s]\n",
      "error: 100%|\u001b[31m██████████\u001b[0m| 5/5 [00:08<00:00,  1.62s/it]\n",
      "samples: 100%|\u001b[34m██████████\u001b[0m| 10/10 [01:32<00:00,  9.28s/it]\n"
     ]
    },
    {
     "data": {
      "image/png": "[encoded data removed]",
      "text/plain": [
       "<Figure size 640x480 with 1 Axes>"
      ]
     },
     "metadata": {},
     "output_type": "display_data"
    }
   ],
   "source": [
    "# with SSA\n",
    "dU_error = [1e-2,1e-3,1e-4,1e-5,0]\n",
    "samples = []\n",
    "for i in tqdm(range(10),desc='samples',colour='blue'):\n",
    "    energy_error = []\n",
    "    for e in tqdm(dU_error,desc='error',colour='red'):\n",
    "        estimate_energy = QSA(Hamiltonian=Hamiltonian,ground_state=ground_state,error=e,with_SSA=True)\n",
    "        energy_error.append(estimate_energy-ground_energy)\n",
    "    samples.append(energy_error)"
   ]
  },
  {
   "cell_type": "code",
   "execution_count": 54,
   "id": "49f709a2",
   "metadata": {},
   "outputs": [
    {
     "name": "stdout",
     "output_type": "stream",
     "text": [
      "mean: [0.00719243 0.00125051 0.001857   0.00189544 0.00213355]\n",
      "std: [0.00387161 0.00097321 0.00051542 0.00151049 0.00086668]\n"
     ]
    }
   ],
   "source": [
    "post_samples = np.array(np.abs(samples)).T\n",
    "benchmark = []\n",
    "for i in range(len(dU_error)):\n",
    "    benchmark.append((np.mean(post_samples[i]),np.std(post_samples[i])))\n",
    "benchmark = np.array(benchmark)\n",
    "print('mean:',benchmark[:,0])\n",
    "print('std:',benchmark[:,1])"
   ]
  },
  {
   "cell_type": "code",
   "execution_count": null,
   "id": "e2b15805",
   "metadata": {},
   "outputs": [],
   "source": []
  }
 ],
 "metadata": {
  "kernelspec": {
   "display_name": "mindspore",
   "language": "python",
   "name": "python3"
  },
  "language_info": {
   "codemirror_mode": {
    "name": "ipython",
    "version": 3
   },
   "file_extension": ".py",
   "mimetype": "text/x-python",
   "name": "python",
   "nbconvert_exporter": "python",
   "pygments_lexer": "ipython3",
   "version": "3.9.21"
  }
 },
 "nbformat": 4,
 "nbformat_minor": 5
}
