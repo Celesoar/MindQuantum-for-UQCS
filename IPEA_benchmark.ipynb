{
 "cells": [
  {
   "cell_type": "code",
   "execution_count": 3,
   "id": "851f27d5",
   "metadata": {},
   "outputs": [],
   "source": [
    "import numpy as np\n",
    "from tqdm import tqdm\n",
    "import matplotlib.pyplot as plt\n",
    "import scipy as sp\n",
    "\n",
    "from mindquantum.core.gates import X, Y, Z, S, H, RX, RY, RZ, Measure, UnivMathGate, DepolarizingChannel\n",
    "from mindquantum.core.circuit import Circuit\n",
    "from mindquantum.simulator import Simulator"
   ]
  },
  {
   "cell_type": "code",
   "execution_count": 57,
   "id": "ce045748",
   "metadata": {},
   "outputs": [],
   "source": [
    "def SpinChain(n,J,h):\n",
    "    X = np.array([[0, 1], [1, 0]],dtype=complex)\n",
    "    Y = np.array([[0, -1j], [1j, 0]],dtype=complex)\n",
    "    Z = np.array([[1, 0], [0, -1]],dtype=complex)\n",
    "    def hopping(P,i):\n",
    "        assert i < n, \"i should be less than n\"\n",
    "        if i == 0 or i == n-1:\n",
    "            matrix = P\n",
    "        else:\n",
    "            matrix = np.eye(2,dtype=complex)\n",
    "        for j in range(1,n):\n",
    "            if j == i or j == i+1:\n",
    "                matrix = np.kron(P,matrix)\n",
    "            else:\n",
    "                matrix = np.kron(np.eye(2,dtype=complex),matrix)\n",
    "        return matrix\n",
    "    def potential(P,i):\n",
    "        assert i < n, \"i should be less than n\"\n",
    "        if i == 0:\n",
    "            matrix = P\n",
    "        else:\n",
    "            matrix = np.eye(2,dtype=complex)\n",
    "        for j in range(1,n):\n",
    "            if j == i:\n",
    "                matrix = np.kron(P,matrix)\n",
    "            else:\n",
    "                matrix = np.kron(np.eye(2,dtype=complex),matrix)\n",
    "        return matrix\n",
    "    \n",
    "    # hopping term\n",
    "    HoppingX = np.zeros((2**n,2**n),dtype=complex)\n",
    "    HoppingY = np.zeros((2**n,2**n),dtype=complex)\n",
    "    HoppingZ = np.zeros((2**n,2**n),dtype=complex)\n",
    "    if n == 2:\n",
    "        for i in range(n-1):\n",
    "            HoppingX += hopping(X,i)*J[0]\n",
    "            HoppingY += hopping(Y,i)*J[1]\n",
    "            HoppingZ += hopping(Z,i)*J[2]\n",
    "    else:\n",
    "        for i in range(n):\n",
    "            HoppingX += hopping(X,i)*J[0]\n",
    "            HoppingY += hopping(Y,i)*J[1]\n",
    "            HoppingZ += hopping(Z,i)*J[2]\n",
    "    # potential term\n",
    "    PotentialX = np.zeros((2**n,2**n),dtype=complex)\n",
    "    PotentialY = np.zeros((2**n,2**n),dtype=complex)\n",
    "    PotentialZ = np.zeros((2**n,2**n),dtype=complex)\n",
    "    for i in range(n):\n",
    "        PotentialX += potential(X,i)*h[0]\n",
    "        PotentialY += potential(Y,i)*h[1]\n",
    "        PotentialZ += potential(Z,i)*h[2]\n",
    "    return HoppingX+HoppingY+HoppingZ+PotentialX+PotentialY+PotentialZ\n",
    "\n",
    "def TimeEvolution(H,t):\n",
    "    eigenv,U = np.linalg.eig(H)\n",
    "    diag = np.diag(np.exp(-1.j*t*eigenv))\n",
    "    return U@diag@np.linalg.inv(U)\n",
    "\n",
    "def IPEA(m,hamil,ground_state,size = 1000, error = 0.0, Evolvef = None):\n",
    "    n = int(np.log2(hamil.shape[0]))\n",
    "    sim = Simulator('mqvector',n+1)\n",
    "    target_bit = [i+1 for i in range(n)]\n",
    "\n",
    "    phi = 0\n",
    "    for i in tqdm(range(m-1,-1,-1)):\n",
    "        if Evolvef is None:\n",
    "            Ut = TimeEvolution(hamil,2**i)\n",
    "        else:\n",
    "            Ut = Evolvef(2**i)\n",
    "        randmat = np.random.randn(2**n,2**n)+1.j*np.random.randn(2**n,2**n)\n",
    "        randmat = randmat*error*(2**i)\n",
    "        Ut = Ut + randmat\n",
    "\n",
    "        circ = Circuit()\n",
    "        circ += H.on(0)\n",
    "        evol_gate = UnivMathGate('Ut',Ut)\n",
    "        circ += evol_gate.on(target_bit,0)\n",
    "        Rz = np.array([[1.0, 0.0], [0.0, np.exp(1.j*phi)]],dtype=complex)\n",
    "        circ += UnivMathGate('Rz',Rz).on(0)\n",
    "        circ += H.on(0)\n",
    "        circ += Measure('q0').on(0)\n",
    "        \n",
    "        sim.reset()\n",
    "        sim.set_qs(np.kron(ground_state,[1.0,0.0]))\n",
    "        result = sim.sampling(circuit=circ,shots=size)\n",
    "        samples = result.data\n",
    "        # print(samples)\n",
    "        try:\n",
    "            zero = samples['0']\n",
    "        except:\n",
    "            zero = 0\n",
    "        try:\n",
    "            one = samples['1']\n",
    "        except:\n",
    "            one = 0\n",
    "        if i == 0:\n",
    "            if zero > one:\n",
    "                phi = -phi\n",
    "            else:\n",
    "                phi = -(phi - np.pi)\n",
    "        else:\n",
    "            if zero > one:\n",
    "                phi = phi/2\n",
    "            else:\n",
    "                phi = phi/2 + np.pi/2\n",
    "    return -phi"
   ]
  },
  {
   "cell_type": "code",
   "execution_count": 58,
   "id": "daa04038",
   "metadata": {},
   "outputs": [],
   "source": [
    "n = 8\n",
    "J = [-1.0,-1.0,-1.5]\n",
    "h = [1.5,0.0,0.5]\n",
    "hamil = SpinChain(n,J,h)\n",
    "ground_energy = np.linalg.eigvalsh(hamil)[0]\n",
    "\n",
    "hamil = hamil*0.4 + np.identity(hamil.shape[0])*11\n",
    "ground_state = 0.9*np.linalg.eig(hamil)[1][:,0]+np.sqrt(1-0.9**2)*np.linalg.eig(hamil)[1][:,1]"
   ]
  },
  {
   "cell_type": "code",
   "execution_count": 63,
   "id": "e0702d1a",
   "metadata": {},
   "outputs": [
    {
     "name": "stderr",
     "output_type": "stream",
     "text": [
      "100%|██████████| 11/11 [00:03<00:00,  3.22it/s]?, ?it/s]\n",
      "100%|██████████| 11/11 [00:04<00:00,  2.71it/s]\n",
      "100%|██████████| 11/11 [00:04<00:00,  2.74it/s]\n",
      "100%|██████████| 11/11 [00:03<00:00,  2.90it/s]\n",
      "100%|██████████| 11/11 [00:03<00:00,  3.13it/s]\n",
      "100%|██████████| 11/11 [00:04<00:00,  2.67it/s]02:49, 18.81s/it]\n",
      "100%|██████████| 11/11 [00:03<00:00,  2.76it/s]\n",
      "100%|██████████| 11/11 [00:04<00:00,  2.62it/s]\n",
      "100%|██████████| 11/11 [00:04<00:00,  2.54it/s]\n",
      "100%|██████████| 11/11 [00:04<00:00,  2.55it/s]\n",
      "100%|██████████| 11/11 [00:04<00:00,  2.58it/s]02:40, 20.08s/it]\n",
      "100%|██████████| 11/11 [00:04<00:00,  2.62it/s]\n",
      "100%|██████████| 11/11 [00:04<00:00,  2.66it/s]\n",
      "100%|██████████| 11/11 [00:04<00:00,  2.62it/s]\n",
      "100%|██████████| 11/11 [00:04<00:00,  2.57it/s]\n",
      "100%|██████████| 11/11 [00:04<00:00,  2.57it/s]02:23, 20.53s/it]\n",
      "100%|██████████| 11/11 [00:04<00:00,  2.65it/s]\n",
      "100%|██████████| 11/11 [00:04<00:00,  2.66it/s]\n",
      "100%|██████████| 11/11 [00:04<00:00,  2.48it/s]\n",
      "100%|██████████| 11/11 [00:04<00:00,  2.59it/s]\n",
      "100%|██████████| 11/11 [00:04<00:00,  2.61it/s]02:04, 20.82s/it]\n",
      "100%|██████████| 11/11 [00:04<00:00,  2.61it/s]\n",
      "100%|██████████| 11/11 [00:04<00:00,  2.61it/s]\n",
      "100%|██████████| 11/11 [00:04<00:00,  2.60it/s]\n",
      "100%|██████████| 11/11 [00:04<00:00,  2.50it/s]\n",
      "100%|██████████| 11/11 [00:04<00:00,  2.52it/s]01:44, 20.99s/it]\n",
      "100%|██████████| 11/11 [00:04<00:00,  2.68it/s]\n",
      "100%|██████████| 11/11 [00:04<00:00,  2.62it/s]\n",
      "100%|██████████| 11/11 [00:04<00:00,  2.58it/s]\n",
      "100%|██████████| 11/11 [00:04<00:00,  2.64it/s]\n",
      "100%|██████████| 11/11 [00:04<00:00,  2.61it/s]01:24, 21.02s/it]\n",
      "100%|██████████| 11/11 [00:04<00:00,  2.61it/s]\n",
      "100%|██████████| 11/11 [00:03<00:00,  2.79it/s]\n",
      "100%|██████████| 11/11 [00:03<00:00,  2.80it/s]\n",
      "100%|██████████| 11/11 [00:03<00:00,  2.77it/s]\n",
      "100%|██████████| 11/11 [00:03<00:00,  3.14it/s]01:02, 20.78s/it]\n",
      "100%|██████████| 11/11 [00:04<00:00,  2.70it/s]\n",
      "100%|██████████| 11/11 [00:04<00:00,  2.62it/s]\n",
      "100%|██████████| 11/11 [00:04<00:00,  2.64it/s]\n",
      "100%|██████████| 11/11 [00:04<00:00,  2.53it/s]\n",
      "100%|██████████| 11/11 [00:04<00:00,  2.72it/s]00:41, 20.64s/it]\n",
      "100%|██████████| 11/11 [00:03<00:00,  2.82it/s]\n",
      "100%|██████████| 11/11 [00:03<00:00,  3.02it/s]\n",
      "100%|██████████| 11/11 [00:04<00:00,  2.67it/s]\n",
      "100%|██████████| 11/11 [00:04<00:00,  2.72it/s]\n",
      "100%|██████████| 11/11 [00:03<00:00,  3.17it/s]00:20, 20.37s/it]\n",
      "100%|██████████| 11/11 [00:03<00:00,  2.83it/s]\n",
      "100%|██████████| 11/11 [00:03<00:00,  2.80it/s]\n",
      "100%|██████████| 11/11 [00:03<00:00,  2.77it/s]\n",
      "100%|██████████| 11/11 [00:04<00:00,  2.74it/s]\n",
      "samples: 100%|\u001b[34m██████████\u001b[0m| 10/10 [03:24<00:00, 20.42s/it]\n"
     ]
    }
   ],
   "source": [
    "dU_error = [1e-2,1e-3,1e-4,1e-5,0]\n",
    "samples = []\n",
    "for i in tqdm(range(10),desc='samples',colour='blue'):\n",
    "    energy_error = []\n",
    "    for e in dU_error:\n",
    "        estimate_phi = IPEA(m = 11, hamil = hamil, ground_state = ground_state, error = e)\n",
    "        estimate_energy = (estimate_phi-11)/0.4\n",
    "        energy_error.append(estimate_energy-ground_energy)\n",
    "    samples.append(energy_error)"
   ]
  },
  {
   "cell_type": "code",
   "execution_count": 62,
   "id": "d44da21e",
   "metadata": {},
   "outputs": [
    {
     "name": "stdout",
     "output_type": "stream",
     "text": [
      "mean: [0.55925382 0.0696783  0.00064917 0.00064917 0.00064917]\n",
      "std: [0. 0. 0. 0. 0.]\n"
     ]
    }
   ],
   "source": [
    "post_samples = np.array(np.abs(samples)).T\n",
    "benchmark = []\n",
    "for i in range(len(dU_error)):\n",
    "    benchmark.append((np.mean(post_samples[i]),np.std(post_samples[i])))\n",
    "benchmark = np.array(benchmark)\n",
    "print('mean:',benchmark[:,0])\n",
    "print('std:',benchmark[:,1])"
   ]
  },
  {
   "cell_type": "code",
   "execution_count": null,
   "id": "e68fba9d",
   "metadata": {},
   "outputs": [],
   "source": []
  },
  {
   "cell_type": "markdown",
   "id": "35ad58cf",
   "metadata": {},
   "source": [
    "# 2. Non-Hermitian"
   ]
  },
  {
   "cell_type": "code",
   "execution_count": 87,
   "id": "7da5ec92",
   "metadata": {},
   "outputs": [],
   "source": [
    "def GainLoss_Hamiltonian(g,delta=1.0,kappa=0.5):\n",
    "    return np.array([[delta-1.j*g, kappa], [kappa, delta+1.j*g]])\n",
    "\n",
    "def EP_time_evolution(t):\n",
    "    t = t*2.0\n",
    "    U = np.array([[-1.j,2.0],[1.0,0.0]])\n",
    "    Jordan_t = np.array([[np.exp(-1.j*t), -1.j*np.exp(-1.j*t)*t],[0.0, np.exp(-1.j*t)]])\n",
    "    return U @ Jordan_t @ np.linalg.inv(U)\n",
    "\n",
    "delta_t = 2.0"
   ]
  },
  {
   "cell_type": "code",
   "execution_count": 71,
   "id": "dcf802ca",
   "metadata": {},
   "outputs": [
    {
     "name": "stdout",
     "output_type": "stream",
     "text": [
      "(0.541742430504416-5.4905503128247676e-17j)\n"
     ]
    },
    {
     "name": "stderr",
     "output_type": "stream",
     "text": [
      "100%|██████████| 10/10 [00:00<00:00, 750.91it/s]\n"
     ]
    },
    {
     "name": "stdout",
     "output_type": "stream",
     "text": [
      "estimate e: 0.543029198911517\n",
      "(0.5999999999999999-4.85722573273506e-17j)\n"
     ]
    },
    {
     "name": "stderr",
     "output_type": "stream",
     "text": [
      "100%|██████████| 10/10 [00:00<00:00, 802.83it/s]\n"
     ]
    },
    {
     "name": "stdout",
     "output_type": "stream",
     "text": [
      "estimate e: 0.5982525072754\n",
      "(0.7+9.71445146547012e-17j)\n"
     ]
    },
    {
     "name": "stderr",
     "output_type": "stream",
     "text": [
      "100%|██████████| 10/10 [00:00<00:00, 666.70it/s]"
     ]
    },
    {
     "name": "stdout",
     "output_type": "stream",
     "text": [
      "estimate e: 0.6994952392758524\n"
     ]
    },
    {
     "name": "stderr",
     "output_type": "stream",
     "text": [
      "\n"
     ]
    },
    {
     "data": {
      "text/plain": [
       "[0.0012867684071010688, 0.0017474927245998417, 0.0005047607241475127]"
      ]
     },
     "execution_count": 71,
     "metadata": {},
     "output_type": "execute_result"
    }
   ],
   "source": [
    "# before EP\n",
    "gg = [0.2,0.3,0.4]\n",
    "error = []\n",
    "for g in gg:\n",
    "    NHH = GainLoss_Hamiltonian(g)\n",
    "    gs = np.sqrt(1-0.9**2)*np.linalg.eig(NHH)[1][:,0] + 0.9*np.linalg.eig(NHH)[1][:,1]\n",
    "    gs = gs/np.linalg.norm(gs)\n",
    "    gs_e = np.linalg.eig(NHH)[0][1]\n",
    "    print(gs_e)\n",
    "    estimate_e = IPEA(m = 10, hamil = NHH*delta_t, ground_state = gs, error = 0)\n",
    "    print(\"estimate e:\",estimate_e/2.0)\n",
    "    error.append(np.abs(estimate_e/2-gs_e))\n",
    "error"
   ]
  },
  {
   "cell_type": "code",
   "execution_count": 74,
   "id": "509fa43d",
   "metadata": {},
   "outputs": [
    {
     "name": "stdout",
     "output_type": "stream",
     "text": [
      "(1+0.3316624790355398j)\n"
     ]
    },
    {
     "name": "stderr",
     "output_type": "stream",
     "text": [
      "100%|██████████| 10/10 [00:00<00:00, 722.16it/s]\n"
     ]
    },
    {
     "name": "stdout",
     "output_type": "stream",
     "text": [
      "estimate e: -1.5707963267948966\n",
      "(1+0.48989794855663543j)\n"
     ]
    },
    {
     "name": "stderr",
     "output_type": "stream",
     "text": [
      "100%|██████████| 10/10 [00:00<00:00, 768.84it/s]\n"
     ]
    },
    {
     "name": "stdout",
     "output_type": "stream",
     "text": [
      "estimate e: -1.5707963267948966\n",
      "(1+0.6244997998398398j)\n"
     ]
    },
    {
     "name": "stderr",
     "output_type": "stream",
     "text": [
      "100%|██████████| 10/10 [00:00<00:00, 833.16it/s]"
     ]
    },
    {
     "name": "stdout",
     "output_type": "stream",
     "text": [
      "estimate e: -1.5707963267948966\n"
     ]
    },
    {
     "name": "stderr",
     "output_type": "stream",
     "text": [
      "\n"
     ]
    },
    {
     "data": {
      "text/plain": [
       "[-0.5707963267948966, -0.5707963267948966, -0.5707963267948966]"
      ]
     },
     "execution_count": 74,
     "metadata": {},
     "output_type": "execute_result"
    }
   ],
   "source": [
    "# after EP\n",
    "gg = [0.6,0.7,0.8]\n",
    "error = []\n",
    "for g in gg:\n",
    "    NHH = GainLoss_Hamiltonian(g)\n",
    "    gs = np.sqrt(1-0.9**2)*np.linalg.eig(NHH)[1][:,0] + 0.9*np.linalg.eig(NHH)[1][:,1]\n",
    "    gs = gs/np.linalg.norm(gs)\n",
    "    gs_e = np.linalg.eig(NHH)[0][1]\n",
    "    print(gs_e)\n",
    "    estimate_e = IPEA(m = 10, hamil = NHH*delta_t, ground_state = gs, error = 0)\n",
    "    print(\"estimate e:\",estimate_e/2.0)\n",
    "    error.append(np.real(estimate_e/2+gs_e))\n",
    "error"
   ]
  },
  {
   "cell_type": "code",
   "execution_count": 89,
   "id": "c5ec0f25",
   "metadata": {},
   "outputs": [
    {
     "name": "stderr",
     "output_type": "stream",
     "text": [
      "  0%|          | 0/10 [00:00<?, ?it/s]"
     ]
    },
    {
     "name": "stderr",
     "output_type": "stream",
     "text": [
      "100%|██████████| 10/10 [00:00<00:00, 729.41it/s]"
     ]
    },
    {
     "name": "stdout",
     "output_type": "stream",
     "text": [
      "estimate e: 1.1780972450961724\n"
     ]
    },
    {
     "name": "stderr",
     "output_type": "stream",
     "text": [
      "\n"
     ]
    }
   ],
   "source": [
    "# EP\n",
    "gs1 = np.array([-1.j,1.0])/np.sqrt(2)\n",
    "gs2 = np.array([1.0,0.0])\n",
    "gs = 0.9*gs1 + np.sqrt(1-0.9**2)*gs2\n",
    "gs = gs/np.linalg.norm(gs)\n",
    "estimate_e = IPEA(m = 10, hamil = NHH*delta_t, ground_state = gs, error = 0, Evolvef=EP_time_evolution)\n",
    "print(\"estimate e:\",estimate_e/2.0)"
   ]
  },
  {
   "cell_type": "markdown",
   "id": "03c01bb9",
   "metadata": {},
   "source": [
    "# 3. Floquet"
   ]
  },
  {
   "cell_type": "code",
   "execution_count": 50,
   "id": "b58f49c4",
   "metadata": {},
   "outputs": [],
   "source": [
    "from functools import partial\n",
    "def EvolvedU(t,dU):\n",
    "    return np.linalg.matrix_power(dU,t)"
   ]
  },
  {
   "cell_type": "code",
   "execution_count": null,
   "id": "66345d55",
   "metadata": {},
   "outputs": [
    {
     "name": "stderr",
     "output_type": "stream",
     "text": [
      "100%|██████████| 10/10 [00:00<00:00, 903.05it/s]"
     ]
    },
    {
     "name": "stdout",
     "output_type": "stream",
     "text": [
      "estimate e: 1.0768545130957201\n"
     ]
    },
    {
     "name": "stderr",
     "output_type": "stream",
     "text": [
      "\n"
     ]
    }
   ],
   "source": [
    "# non-T\n",
    "dU = np.array([[-0.599986 - 0.7382 *1.j, 0, -0.0527668 + 0.303797 *1.j, 0], \n",
    "               [0, -0.814197 - 0.338483 *1.j, 0, -0.0807238 + 0.464755 *1.j], \n",
    "               [-0.215087 + 0.22094 *1.j, 0, -0.949803 - 0.0528952 *1.j, 0], \n",
    "               [0, -0.329044 + 0.337998 *1.j, 0, -0.751733 - 0.460852 *1.j]])\n",
    "\n",
    "gs = np.array([-0.612372, -0.353553, 0.353553, 0.612372])\n",
    "\n",
    "estimate_e = IPEA(m = 10, hamil = dU, ground_state = gs, error = 0, Evolvef=partial(EvolvedU, dU=dU))\n",
    "print(\"estimate e:\",estimate_e/2.0)"
   ]
  },
  {
   "cell_type": "code",
   "execution_count": 55,
   "id": "f8232cd8",
   "metadata": {},
   "outputs": [
    {
     "name": "stderr",
     "output_type": "stream",
     "text": [
      "100%|██████████| 10/10 [00:00<00:00, 769.40it/s]"
     ]
    },
    {
     "name": "stdout",
     "output_type": "stream",
     "text": [
      "estimate e: 1.2277109258461352\n"
     ]
    },
    {
     "name": "stderr",
     "output_type": "stream",
     "text": [
      "\n"
     ]
    }
   ],
   "source": [
    "# T\n",
    "dU = np.array([[-0.462832 - 0.518753 *1.j, 0, 0. + 0.718806 *1.j, 0], \n",
    "               [0, -0.439416 + 0.356942 *1.j, 0, 0. + 0.824322 *1.j], \n",
    "               [0. + 0.718806 *1.j, 0, -0.462832 + 0.518753 *1.j, 0], \n",
    "               [0, 0. + 0.824322 *1.j, 0, -0.439416 - 0.356942 *1.j]])\n",
    "\n",
    "gs = np.array([-0.612372, -0.353553, 0.353553, 0.612372])\n",
    "\n",
    "estimate_e = IPEA(m = 10, hamil = dU, ground_state = gs, error = 0, Evolvef=partial(EvolvedU, dU=dU))\n",
    "print(\"estimate e:\",estimate_e/9.0+1)"
   ]
  },
  {
   "cell_type": "code",
   "execution_count": null,
   "id": "6e9caae3",
   "metadata": {},
   "outputs": [],
   "source": []
  }
 ],
 "metadata": {
  "kernelspec": {
   "display_name": "mindspore",
   "language": "python",
   "name": "python3"
  },
  "language_info": {
   "codemirror_mode": {
    "name": "ipython",
    "version": 3
   },
   "file_extension": ".py",
   "mimetype": "text/x-python",
   "name": "python",
   "nbconvert_exporter": "python",
   "pygments_lexer": "ipython3",
   "version": "3.9.21"
  }
 },
 "nbformat": 4,
 "nbformat_minor": 5
}
